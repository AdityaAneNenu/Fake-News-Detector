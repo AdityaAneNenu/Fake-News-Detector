{
 "cells": [
  {
   "cell_type": "code",
   "execution_count": 1,
   "metadata": {},
   "outputs": [
    {
     "data": {
      "text/html": [
       "<div>\n",
       "<style scoped>\n",
       "    .dataframe tbody tr th:only-of-type {\n",
       "        vertical-align: middle;\n",
       "    }\n",
       "\n",
       "    .dataframe tbody tr th {\n",
       "        vertical-align: top;\n",
       "    }\n",
       "\n",
       "    .dataframe thead th {\n",
       "        text-align: right;\n",
       "    }\n",
       "</style>\n",
       "<table border=\"1\" class=\"dataframe\">\n",
       "  <thead>\n",
       "    <tr style=\"text-align: right;\">\n",
       "      <th></th>\n",
       "      <th>title</th>\n",
       "      <th>text</th>\n",
       "      <th>subject</th>\n",
       "      <th>date</th>\n",
       "      <th>classification</th>\n",
       "    </tr>\n",
       "  </thead>\n",
       "  <tbody>\n",
       "    <tr>\n",
       "      <th>0</th>\n",
       "      <td>Donald Trump Sends Out Embarrassing New Yearâ...</td>\n",
       "      <td>Donald Trump just couldn t wish all Americans ...</td>\n",
       "      <td>News</td>\n",
       "      <td>2017-12-31 00:00:00</td>\n",
       "      <td>0</td>\n",
       "    </tr>\n",
       "    <tr>\n",
       "      <th>1</th>\n",
       "      <td>Drunk Bragging Trump Staffer Started Russian ...</td>\n",
       "      <td>House Intelligence Committee Chairman Devin Nu...</td>\n",
       "      <td>News</td>\n",
       "      <td>2017-12-31 00:00:00</td>\n",
       "      <td>0</td>\n",
       "    </tr>\n",
       "    <tr>\n",
       "      <th>2</th>\n",
       "      <td>Sheriff David Clarke Becomes An Internet Joke...</td>\n",
       "      <td>On Friday, it was revealed that former Milwauk...</td>\n",
       "      <td>News</td>\n",
       "      <td>2017-12-30 00:00:00</td>\n",
       "      <td>0</td>\n",
       "    </tr>\n",
       "    <tr>\n",
       "      <th>3</th>\n",
       "      <td>Trump Is So Obsessed He Even Has Obamaâ€™s Na...</td>\n",
       "      <td>On Christmas day, Donald Trump announced that ...</td>\n",
       "      <td>News</td>\n",
       "      <td>2017-12-29 00:00:00</td>\n",
       "      <td>0</td>\n",
       "    </tr>\n",
       "    <tr>\n",
       "      <th>4</th>\n",
       "      <td>Pope Francis Just Called Out Donald Trump Dur...</td>\n",
       "      <td>Pope Francis used his annual Christmas Day mes...</td>\n",
       "      <td>News</td>\n",
       "      <td>2017-12-25 00:00:00</td>\n",
       "      <td>0</td>\n",
       "    </tr>\n",
       "    <tr>\n",
       "      <th>...</th>\n",
       "      <td>...</td>\n",
       "      <td>...</td>\n",
       "      <td>...</td>\n",
       "      <td>...</td>\n",
       "      <td>...</td>\n",
       "    </tr>\n",
       "    <tr>\n",
       "      <th>44914</th>\n",
       "      <td>'Fully committed' NATO backs new U.S. approach...</td>\n",
       "      <td>BRUSSELS (Reuters) - NATO allies on Tuesday we...</td>\n",
       "      <td>worldnews</td>\n",
       "      <td>2017-08-22 00:00:00</td>\n",
       "      <td>1</td>\n",
       "    </tr>\n",
       "    <tr>\n",
       "      <th>44915</th>\n",
       "      <td>LexisNexis withdrew two products from Chinese ...</td>\n",
       "      <td>LONDON (Reuters) - LexisNexis, a provider of l...</td>\n",
       "      <td>worldnews</td>\n",
       "      <td>2017-08-22 00:00:00</td>\n",
       "      <td>1</td>\n",
       "    </tr>\n",
       "    <tr>\n",
       "      <th>44916</th>\n",
       "      <td>Minsk cultural hub becomes haven from authorities</td>\n",
       "      <td>MINSK (Reuters) - In the shadow of disused Sov...</td>\n",
       "      <td>worldnews</td>\n",
       "      <td>2017-08-22 00:00:00</td>\n",
       "      <td>1</td>\n",
       "    </tr>\n",
       "    <tr>\n",
       "      <th>44917</th>\n",
       "      <td>Vatican upbeat on possibility of Pope Francis ...</td>\n",
       "      <td>MOSCOW (Reuters) - Vatican Secretary of State ...</td>\n",
       "      <td>worldnews</td>\n",
       "      <td>2017-08-22 00:00:00</td>\n",
       "      <td>1</td>\n",
       "    </tr>\n",
       "    <tr>\n",
       "      <th>44918</th>\n",
       "      <td>Indonesia to buy $1.14 billion worth of Russia...</td>\n",
       "      <td>JAKARTA (Reuters) - Indonesia will buy 11 Sukh...</td>\n",
       "      <td>worldnews</td>\n",
       "      <td>2017-08-22 00:00:00</td>\n",
       "      <td>1</td>\n",
       "    </tr>\n",
       "  </tbody>\n",
       "</table>\n",
       "<p>44919 rows × 5 columns</p>\n",
       "</div>"
      ],
      "text/plain": [
       "                                                   title  \\\n",
       "0       Donald Trump Sends Out Embarrassing New Yearâ...   \n",
       "1       Drunk Bragging Trump Staffer Started Russian ...   \n",
       "2       Sheriff David Clarke Becomes An Internet Joke...   \n",
       "3       Trump Is So Obsessed He Even Has Obamaâ€™s Na...   \n",
       "4       Pope Francis Just Called Out Donald Trump Dur...   \n",
       "...                                                  ...   \n",
       "44914  'Fully committed' NATO backs new U.S. approach...   \n",
       "44915  LexisNexis withdrew two products from Chinese ...   \n",
       "44916  Minsk cultural hub becomes haven from authorities   \n",
       "44917  Vatican upbeat on possibility of Pope Francis ...   \n",
       "44918  Indonesia to buy $1.14 billion worth of Russia...   \n",
       "\n",
       "                                                    text    subject  \\\n",
       "0      Donald Trump just couldn t wish all Americans ...       News   \n",
       "1      House Intelligence Committee Chairman Devin Nu...       News   \n",
       "2      On Friday, it was revealed that former Milwauk...       News   \n",
       "3      On Christmas day, Donald Trump announced that ...       News   \n",
       "4      Pope Francis used his annual Christmas Day mes...       News   \n",
       "...                                                  ...        ...   \n",
       "44914  BRUSSELS (Reuters) - NATO allies on Tuesday we...  worldnews   \n",
       "44915  LONDON (Reuters) - LexisNexis, a provider of l...  worldnews   \n",
       "44916  MINSK (Reuters) - In the shadow of disused Sov...  worldnews   \n",
       "44917  MOSCOW (Reuters) - Vatican Secretary of State ...  worldnews   \n",
       "44918  JAKARTA (Reuters) - Indonesia will buy 11 Sukh...  worldnews   \n",
       "\n",
       "                      date  classification  \n",
       "0      2017-12-31 00:00:00               0  \n",
       "1      2017-12-31 00:00:00               0  \n",
       "2      2017-12-30 00:00:00               0  \n",
       "3      2017-12-29 00:00:00               0  \n",
       "4      2017-12-25 00:00:00               0  \n",
       "...                    ...             ...  \n",
       "44914  2017-08-22 00:00:00               1  \n",
       "44915  2017-08-22 00:00:00               1  \n",
       "44916  2017-08-22 00:00:00               1  \n",
       "44917  2017-08-22 00:00:00               1  \n",
       "44918  2017-08-22 00:00:00               1  \n",
       "\n",
       "[44919 rows x 5 columns]"
      ]
     },
     "execution_count": 1,
     "metadata": {},
     "output_type": "execute_result"
    }
   ],
   "source": [
    "import pandas as pd\n",
    "import nltk\n",
    "from nltk.corpus import stopwords\n",
    "from nltk.tokenize import word_tokenize\n",
    "import matplotlib.pyplot as plt\n",
    "from nltk.stem import PorterStemmer, WordNetLemmatizer\n",
    "#nltk.download('punkt')\n",
    "#nltk.download('stopwords')\n",
    "#nltk.download('wordnet')\n",
    "#nltk.download('omw-1.4')\n",
    "import numpy as np\n",
    "import seaborn as sns\n",
    "import re\n",
    "from sklearn.neural_network import MLPClassifier\n",
    "from sklearn.metrics import accuracy_score, classification_report, confusion_matrix\n",
    "df = pd.read_excel('Combine.xlsx')\n",
    "df"
   ]
  },
  {
   "cell_type": "code",
   "execution_count": 2,
   "metadata": {},
   "outputs": [
    {
     "data": {
      "text/html": [
       "<div>\n",
       "<style scoped>\n",
       "    .dataframe tbody tr th:only-of-type {\n",
       "        vertical-align: middle;\n",
       "    }\n",
       "\n",
       "    .dataframe tbody tr th {\n",
       "        vertical-align: top;\n",
       "    }\n",
       "\n",
       "    .dataframe thead th {\n",
       "        text-align: right;\n",
       "    }\n",
       "</style>\n",
       "<table border=\"1\" class=\"dataframe\">\n",
       "  <thead>\n",
       "    <tr style=\"text-align: right;\">\n",
       "      <th></th>\n",
       "      <th>classification</th>\n",
       "    </tr>\n",
       "  </thead>\n",
       "  <tbody>\n",
       "    <tr>\n",
       "      <th>count</th>\n",
       "      <td>44919.000000</td>\n",
       "    </tr>\n",
       "    <tr>\n",
       "      <th>mean</th>\n",
       "      <td>0.476792</td>\n",
       "    </tr>\n",
       "    <tr>\n",
       "      <th>std</th>\n",
       "      <td>0.499467</td>\n",
       "    </tr>\n",
       "    <tr>\n",
       "      <th>min</th>\n",
       "      <td>0.000000</td>\n",
       "    </tr>\n",
       "    <tr>\n",
       "      <th>25%</th>\n",
       "      <td>0.000000</td>\n",
       "    </tr>\n",
       "    <tr>\n",
       "      <th>50%</th>\n",
       "      <td>0.000000</td>\n",
       "    </tr>\n",
       "    <tr>\n",
       "      <th>75%</th>\n",
       "      <td>1.000000</td>\n",
       "    </tr>\n",
       "    <tr>\n",
       "      <th>max</th>\n",
       "      <td>1.000000</td>\n",
       "    </tr>\n",
       "  </tbody>\n",
       "</table>\n",
       "</div>"
      ],
      "text/plain": [
       "       classification\n",
       "count    44919.000000\n",
       "mean         0.476792\n",
       "std          0.499467\n",
       "min          0.000000\n",
       "25%          0.000000\n",
       "50%          0.000000\n",
       "75%          1.000000\n",
       "max          1.000000"
      ]
     },
     "execution_count": 2,
     "metadata": {},
     "output_type": "execute_result"
    }
   ],
   "source": [
    "df.describe() #Describes the data"
   ]
  },
  {
   "cell_type": "code",
   "execution_count": 3,
   "metadata": {},
   "outputs": [
    {
     "data": {
      "text/html": [
       "<div>\n",
       "<style scoped>\n",
       "    .dataframe tbody tr th:only-of-type {\n",
       "        vertical-align: middle;\n",
       "    }\n",
       "\n",
       "    .dataframe tbody tr th {\n",
       "        vertical-align: top;\n",
       "    }\n",
       "\n",
       "    .dataframe thead th {\n",
       "        text-align: right;\n",
       "    }\n",
       "</style>\n",
       "<table border=\"1\" class=\"dataframe\">\n",
       "  <thead>\n",
       "    <tr style=\"text-align: right;\">\n",
       "      <th></th>\n",
       "      <th>title</th>\n",
       "      <th>text</th>\n",
       "      <th>subject</th>\n",
       "      <th>date</th>\n",
       "      <th>classification</th>\n",
       "    </tr>\n",
       "  </thead>\n",
       "  <tbody>\n",
       "    <tr>\n",
       "      <th>0</th>\n",
       "      <td>Donald Trump Sends Out Embarrassing New Yearâ...</td>\n",
       "      <td>Donald Trump just couldn t wish all Americans ...</td>\n",
       "      <td>News</td>\n",
       "      <td>2017-12-31 00:00:00</td>\n",
       "      <td>0</td>\n",
       "    </tr>\n",
       "    <tr>\n",
       "      <th>1</th>\n",
       "      <td>Drunk Bragging Trump Staffer Started Russian ...</td>\n",
       "      <td>House Intelligence Committee Chairman Devin Nu...</td>\n",
       "      <td>News</td>\n",
       "      <td>2017-12-31 00:00:00</td>\n",
       "      <td>0</td>\n",
       "    </tr>\n",
       "    <tr>\n",
       "      <th>2</th>\n",
       "      <td>Sheriff David Clarke Becomes An Internet Joke...</td>\n",
       "      <td>On Friday, it was revealed that former Milwauk...</td>\n",
       "      <td>News</td>\n",
       "      <td>2017-12-30 00:00:00</td>\n",
       "      <td>0</td>\n",
       "    </tr>\n",
       "    <tr>\n",
       "      <th>3</th>\n",
       "      <td>Trump Is So Obsessed He Even Has Obamaâ€™s Na...</td>\n",
       "      <td>On Christmas day, Donald Trump announced that ...</td>\n",
       "      <td>News</td>\n",
       "      <td>2017-12-29 00:00:00</td>\n",
       "      <td>0</td>\n",
       "    </tr>\n",
       "    <tr>\n",
       "      <th>4</th>\n",
       "      <td>Pope Francis Just Called Out Donald Trump Dur...</td>\n",
       "      <td>Pope Francis used his annual Christmas Day mes...</td>\n",
       "      <td>News</td>\n",
       "      <td>2017-12-25 00:00:00</td>\n",
       "      <td>0</td>\n",
       "    </tr>\n",
       "  </tbody>\n",
       "</table>\n",
       "</div>"
      ],
      "text/plain": [
       "                                               title  \\\n",
       "0   Donald Trump Sends Out Embarrassing New Yearâ...   \n",
       "1   Drunk Bragging Trump Staffer Started Russian ...   \n",
       "2   Sheriff David Clarke Becomes An Internet Joke...   \n",
       "3   Trump Is So Obsessed He Even Has Obamaâ€™s Na...   \n",
       "4   Pope Francis Just Called Out Donald Trump Dur...   \n",
       "\n",
       "                                                text subject  \\\n",
       "0  Donald Trump just couldn t wish all Americans ...    News   \n",
       "1  House Intelligence Committee Chairman Devin Nu...    News   \n",
       "2  On Friday, it was revealed that former Milwauk...    News   \n",
       "3  On Christmas day, Donald Trump announced that ...    News   \n",
       "4  Pope Francis used his annual Christmas Day mes...    News   \n",
       "\n",
       "                  date  classification  \n",
       "0  2017-12-31 00:00:00               0  \n",
       "1  2017-12-31 00:00:00               0  \n",
       "2  2017-12-30 00:00:00               0  \n",
       "3  2017-12-29 00:00:00               0  \n",
       "4  2017-12-25 00:00:00               0  "
      ]
     },
     "execution_count": 3,
     "metadata": {},
     "output_type": "execute_result"
    }
   ],
   "source": [
    "df.head() "
   ]
  },
  {
   "cell_type": "code",
   "execution_count": 4,
   "metadata": {},
   "outputs": [
    {
     "data": {
      "text/html": [
       "<div>\n",
       "<style scoped>\n",
       "    .dataframe tbody tr th:only-of-type {\n",
       "        vertical-align: middle;\n",
       "    }\n",
       "\n",
       "    .dataframe tbody tr th {\n",
       "        vertical-align: top;\n",
       "    }\n",
       "\n",
       "    .dataframe thead th {\n",
       "        text-align: right;\n",
       "    }\n",
       "</style>\n",
       "<table border=\"1\" class=\"dataframe\">\n",
       "  <thead>\n",
       "    <tr style=\"text-align: right;\">\n",
       "      <th></th>\n",
       "      <th>title</th>\n",
       "      <th>text</th>\n",
       "      <th>subject</th>\n",
       "      <th>date</th>\n",
       "      <th>classification</th>\n",
       "    </tr>\n",
       "  </thead>\n",
       "  <tbody>\n",
       "    <tr>\n",
       "      <th>44914</th>\n",
       "      <td>'Fully committed' NATO backs new U.S. approach...</td>\n",
       "      <td>BRUSSELS (Reuters) - NATO allies on Tuesday we...</td>\n",
       "      <td>worldnews</td>\n",
       "      <td>2017-08-22 00:00:00</td>\n",
       "      <td>1</td>\n",
       "    </tr>\n",
       "    <tr>\n",
       "      <th>44915</th>\n",
       "      <td>LexisNexis withdrew two products from Chinese ...</td>\n",
       "      <td>LONDON (Reuters) - LexisNexis, a provider of l...</td>\n",
       "      <td>worldnews</td>\n",
       "      <td>2017-08-22 00:00:00</td>\n",
       "      <td>1</td>\n",
       "    </tr>\n",
       "    <tr>\n",
       "      <th>44916</th>\n",
       "      <td>Minsk cultural hub becomes haven from authorities</td>\n",
       "      <td>MINSK (Reuters) - In the shadow of disused Sov...</td>\n",
       "      <td>worldnews</td>\n",
       "      <td>2017-08-22 00:00:00</td>\n",
       "      <td>1</td>\n",
       "    </tr>\n",
       "    <tr>\n",
       "      <th>44917</th>\n",
       "      <td>Vatican upbeat on possibility of Pope Francis ...</td>\n",
       "      <td>MOSCOW (Reuters) - Vatican Secretary of State ...</td>\n",
       "      <td>worldnews</td>\n",
       "      <td>2017-08-22 00:00:00</td>\n",
       "      <td>1</td>\n",
       "    </tr>\n",
       "    <tr>\n",
       "      <th>44918</th>\n",
       "      <td>Indonesia to buy $1.14 billion worth of Russia...</td>\n",
       "      <td>JAKARTA (Reuters) - Indonesia will buy 11 Sukh...</td>\n",
       "      <td>worldnews</td>\n",
       "      <td>2017-08-22 00:00:00</td>\n",
       "      <td>1</td>\n",
       "    </tr>\n",
       "  </tbody>\n",
       "</table>\n",
       "</div>"
      ],
      "text/plain": [
       "                                                   title  \\\n",
       "44914  'Fully committed' NATO backs new U.S. approach...   \n",
       "44915  LexisNexis withdrew two products from Chinese ...   \n",
       "44916  Minsk cultural hub becomes haven from authorities   \n",
       "44917  Vatican upbeat on possibility of Pope Francis ...   \n",
       "44918  Indonesia to buy $1.14 billion worth of Russia...   \n",
       "\n",
       "                                                    text    subject  \\\n",
       "44914  BRUSSELS (Reuters) - NATO allies on Tuesday we...  worldnews   \n",
       "44915  LONDON (Reuters) - LexisNexis, a provider of l...  worldnews   \n",
       "44916  MINSK (Reuters) - In the shadow of disused Sov...  worldnews   \n",
       "44917  MOSCOW (Reuters) - Vatican Secretary of State ...  worldnews   \n",
       "44918  JAKARTA (Reuters) - Indonesia will buy 11 Sukh...  worldnews   \n",
       "\n",
       "                      date  classification  \n",
       "44914  2017-08-22 00:00:00               1  \n",
       "44915  2017-08-22 00:00:00               1  \n",
       "44916  2017-08-22 00:00:00               1  \n",
       "44917  2017-08-22 00:00:00               1  \n",
       "44918  2017-08-22 00:00:00               1  "
      ]
     },
     "execution_count": 4,
     "metadata": {},
     "output_type": "execute_result"
    }
   ],
   "source": [
    "df.tail() "
   ]
  },
  {
   "cell_type": "code",
   "execution_count": 5,
   "metadata": {},
   "outputs": [
    {
     "data": {
      "text/plain": [
       "title             object\n",
       "text              object\n",
       "subject           object\n",
       "date              object\n",
       "classification     int64\n",
       "dtype: object"
      ]
     },
     "execution_count": 5,
     "metadata": {},
     "output_type": "execute_result"
    }
   ],
   "source": [
    "df.dtypes"
   ]
  },
  {
   "cell_type": "code",
   "execution_count": 6,
   "metadata": {},
   "outputs": [
    {
     "data": {
      "text/plain": [
       "classification\n",
       "0    23502\n",
       "1    21417\n",
       "Name: count, dtype: int64"
      ]
     },
     "execution_count": 6,
     "metadata": {},
     "output_type": "execute_result"
    }
   ],
   "source": [
    "df['classification'].value_counts()"
   ]
  },
  {
   "cell_type": "code",
   "execution_count": 7,
   "metadata": {},
   "outputs": [
    {
     "name": "stderr",
     "output_type": "stream",
     "text": [
      "/tmp/ipykernel_14048/2278129290.py:2: FutureWarning: \n",
      "\n",
      "Passing `palette` without assigning `hue` is deprecated and will be removed in v0.14.0. Assign the `x` variable to `hue` and set `legend=False` for the same effect.\n",
      "\n",
      "  sns.countplot(data=df, x='classification', palette='viridis')\n"
     ]
    },
    {
     "data": {
      "image/png": "[encoded data removed]",
      "text/plain": [
       "<Figure size 800x600 with 1 Axes>"
      ]
     },
     "metadata": {},
     "output_type": "display_data"
    }
   ],
   "source": [
    "plt.figure(figsize=(8, 6))\n",
    "sns.countplot(data=df, x='classification', palette='viridis')\n",
    "plt.title('Distribution of News Labels (Fake-0 vs Real-1)')\n",
    "plt.xlabel('Classification')\n",
    "plt.ylabel('Count')\n",
    "plt.show()"
   ]
  },
  {
   "cell_type": "code",
   "execution_count": 8,
   "metadata": {},
   "outputs": [],
   "source": [
    "df=df.drop(columns=['subject','date','title'])"
   ]
  },
  {
   "cell_type": "code",
   "execution_count": 9,
   "metadata": {},
   "outputs": [
    {
     "data": {
      "text/html": [
       "<div>\n",
       "<style scoped>\n",
       "    .dataframe tbody tr th:only-of-type {\n",
       "        vertical-align: middle;\n",
       "    }\n",
       "\n",
       "    .dataframe tbody tr th {\n",
       "        vertical-align: top;\n",
       "    }\n",
       "\n",
       "    .dataframe thead th {\n",
       "        text-align: right;\n",
       "    }\n",
       "</style>\n",
       "<table border=\"1\" class=\"dataframe\">\n",
       "  <thead>\n",
       "    <tr style=\"text-align: right;\">\n",
       "      <th></th>\n",
       "      <th>text</th>\n",
       "      <th>classification</th>\n",
       "    </tr>\n",
       "  </thead>\n",
       "  <tbody>\n",
       "    <tr>\n",
       "      <th>0</th>\n",
       "      <td>Donald Trump just couldn t wish all Americans ...</td>\n",
       "      <td>0</td>\n",
       "    </tr>\n",
       "    <tr>\n",
       "      <th>1</th>\n",
       "      <td>House Intelligence Committee Chairman Devin Nu...</td>\n",
       "      <td>0</td>\n",
       "    </tr>\n",
       "    <tr>\n",
       "      <th>2</th>\n",
       "      <td>On Friday, it was revealed that former Milwauk...</td>\n",
       "      <td>0</td>\n",
       "    </tr>\n",
       "    <tr>\n",
       "      <th>3</th>\n",
       "      <td>On Christmas day, Donald Trump announced that ...</td>\n",
       "      <td>0</td>\n",
       "    </tr>\n",
       "    <tr>\n",
       "      <th>4</th>\n",
       "      <td>Pope Francis used his annual Christmas Day mes...</td>\n",
       "      <td>0</td>\n",
       "    </tr>\n",
       "  </tbody>\n",
       "</table>\n",
       "</div>"
      ],
      "text/plain": [
       "                                                text  classification\n",
       "0  Donald Trump just couldn t wish all Americans ...               0\n",
       "1  House Intelligence Committee Chairman Devin Nu...               0\n",
       "2  On Friday, it was revealed that former Milwauk...               0\n",
       "3  On Christmas day, Donald Trump announced that ...               0\n",
       "4  Pope Francis used his annual Christmas Day mes...               0"
      ]
     },
     "execution_count": 9,
     "metadata": {},
     "output_type": "execute_result"
    }
   ],
   "source": [
    "df.head()\n"
   ]
  },
  {
   "cell_type": "code",
   "execution_count": 10,
   "metadata": {},
   "outputs": [
    {
     "data": {
      "text/html": [
       "<div>\n",
       "<style scoped>\n",
       "    .dataframe tbody tr th:only-of-type {\n",
       "        vertical-align: middle;\n",
       "    }\n",
       "\n",
       "    .dataframe tbody tr th {\n",
       "        vertical-align: top;\n",
       "    }\n",
       "\n",
       "    .dataframe thead th {\n",
       "        text-align: right;\n",
       "    }\n",
       "</style>\n",
       "<table border=\"1\" class=\"dataframe\">\n",
       "  <thead>\n",
       "    <tr style=\"text-align: right;\">\n",
       "      <th></th>\n",
       "      <th>text</th>\n",
       "      <th>classification</th>\n",
       "    </tr>\n",
       "  </thead>\n",
       "  <tbody>\n",
       "    <tr>\n",
       "      <th>44914</th>\n",
       "      <td>BRUSSELS (Reuters) - NATO allies on Tuesday we...</td>\n",
       "      <td>1</td>\n",
       "    </tr>\n",
       "    <tr>\n",
       "      <th>44915</th>\n",
       "      <td>LONDON (Reuters) - LexisNexis, a provider of l...</td>\n",
       "      <td>1</td>\n",
       "    </tr>\n",
       "    <tr>\n",
       "      <th>44916</th>\n",
       "      <td>MINSK (Reuters) - In the shadow of disused Sov...</td>\n",
       "      <td>1</td>\n",
       "    </tr>\n",
       "    <tr>\n",
       "      <th>44917</th>\n",
       "      <td>MOSCOW (Reuters) - Vatican Secretary of State ...</td>\n",
       "      <td>1</td>\n",
       "    </tr>\n",
       "    <tr>\n",
       "      <th>44918</th>\n",
       "      <td>JAKARTA (Reuters) - Indonesia will buy 11 Sukh...</td>\n",
       "      <td>1</td>\n",
       "    </tr>\n",
       "  </tbody>\n",
       "</table>\n",
       "</div>"
      ],
      "text/plain": [
       "                                                    text  classification\n",
       "44914  BRUSSELS (Reuters) - NATO allies on Tuesday we...               1\n",
       "44915  LONDON (Reuters) - LexisNexis, a provider of l...               1\n",
       "44916  MINSK (Reuters) - In the shadow of disused Sov...               1\n",
       "44917  MOSCOW (Reuters) - Vatican Secretary of State ...               1\n",
       "44918  JAKARTA (Reuters) - Indonesia will buy 11 Sukh...               1"
      ]
     },
     "execution_count": 10,
     "metadata": {},
     "output_type": "execute_result"
    }
   ],
   "source": [
    "df.tail()"
   ]
  },
  {
   "cell_type": "code",
   "execution_count": 11,
   "metadata": {},
   "outputs": [
    {
     "name": "stdout",
     "output_type": "stream",
     "text": [
      "Shape: (44919, 2)\n"
     ]
    }
   ],
   "source": [
    "print(f\"Shape: {df.shape}\")"
   ]
  },
  {
   "cell_type": "code",
   "execution_count": 12,
   "metadata": {},
   "outputs": [
    {
     "name": "stdout",
     "output_type": "stream",
     "text": [
      "text              0\n",
      "classification    0\n",
      "dtype: int64\n"
     ]
    }
   ],
   "source": [
    "print(df.isnull().sum())"
   ]
  },
  {
   "cell_type": "code",
   "execution_count": 13,
   "metadata": {},
   "outputs": [
    {
     "data": {
      "text/plain": [
       "<Axes: ylabel='count'>"
      ]
     },
     "execution_count": 13,
     "metadata": {},
     "output_type": "execute_result"
    },
    {
     "data": {
      "image/png": "[encoded data removed]",
      "text/plain": [
       "<Figure size 640x480 with 1 Axes>"
      ]
     },
     "metadata": {},
     "output_type": "display_data"
    }
   ],
   "source": [
    "pie=df['classification'].value_counts()\n",
    "pie.plot(kind='pie', autopct='%1.1f%%')"
   ]
  },
  {
   "cell_type": "code",
   "execution_count": 14,
   "metadata": {},
   "outputs": [
    {
     "name": "stdout",
     "output_type": "stream",
     "text": [
      "Duplicate entries in the 'text' column: 6262\n"
     ]
    }
   ],
   "source": [
    "# Identify and count duplicate entries in the 'article_content' column\n",
    "duplicate_count=df['text'].duplicated().sum()\n",
    "print(f\"Duplicate entries in the 'text' column: {duplicate_count}\")\n",
    "\n",
    "# Remove duplicates, keeping the first occurrence\n",
    "df=df.loc[~df['text'].duplicated()]\n",
    "\n",
    "# Re-index the dataset after dropping duplicates\n",
    "df.reset_index(inplace=True, drop=True)"
   ]
  },
  {
   "cell_type": "code",
   "execution_count": 15,
   "metadata": {},
   "outputs": [
    {
     "name": "stdout",
     "output_type": "stream",
     "text": [
      "Updated shape: (38657, 2)\n"
     ]
    }
   ],
   "source": [
    "print(f\"Updated shape: {df.shape}\")"
   ]
  },
  {
   "cell_type": "code",
   "execution_count": 16,
   "metadata": {},
   "outputs": [
    {
     "data": {
      "text/plain": [
       "classification\n",
       "1    21191\n",
       "0    17466\n",
       "Name: count, dtype: int64"
      ]
     },
     "execution_count": 16,
     "metadata": {},
     "output_type": "execute_result"
    }
   ],
   "source": [
    "df['classification'].value_counts()"
   ]
  },
  {
   "cell_type": "code",
   "execution_count": 17,
   "metadata": {},
   "outputs": [
    {
     "data": {
      "text/html": [
       "<div>\n",
       "<style scoped>\n",
       "    .dataframe tbody tr th:only-of-type {\n",
       "        vertical-align: middle;\n",
       "    }\n",
       "\n",
       "    .dataframe tbody tr th {\n",
       "        vertical-align: top;\n",
       "    }\n",
       "\n",
       "    .dataframe thead th {\n",
       "        text-align: right;\n",
       "    }\n",
       "</style>\n",
       "<table border=\"1\" class=\"dataframe\">\n",
       "  <thead>\n",
       "    <tr style=\"text-align: right;\">\n",
       "      <th></th>\n",
       "      <th>text</th>\n",
       "    </tr>\n",
       "  </thead>\n",
       "  <tbody>\n",
       "    <tr>\n",
       "      <th>0</th>\n",
       "      <td>donald trump just couldn t wish all americans ...</td>\n",
       "    </tr>\n",
       "    <tr>\n",
       "      <th>1</th>\n",
       "      <td>house intelligence committee chairman devin nu...</td>\n",
       "    </tr>\n",
       "    <tr>\n",
       "      <th>2</th>\n",
       "      <td>on friday it was revealed that former milwauke...</td>\n",
       "    </tr>\n",
       "    <tr>\n",
       "      <th>3</th>\n",
       "      <td>on christmas day donald trump announced that h...</td>\n",
       "    </tr>\n",
       "    <tr>\n",
       "      <th>4</th>\n",
       "      <td>pope francis used his annual christmas day mes...</td>\n",
       "    </tr>\n",
       "  </tbody>\n",
       "</table>\n",
       "</div>"
      ],
      "text/plain": [
       "                                                text\n",
       "0  donald trump just couldn t wish all americans ...\n",
       "1  house intelligence committee chairman devin nu...\n",
       "2  on friday it was revealed that former milwauke...\n",
       "3  on christmas day donald trump announced that h...\n",
       "4  pope francis used his annual christmas day mes..."
      ]
     },
     "execution_count": 17,
     "metadata": {},
     "output_type": "execute_result"
    }
   ],
   "source": [
    "def refine_text(text):\n",
    "    \"\"\"\n",
    "    Refines the text by performing the following operations:\n",
    "    - Converts to lowercase\n",
    "    - Removes special characters\n",
    "    - Eliminates numbers\n",
    "    - Strips extra spaces\n",
    "    \"\"\"\n",
    "    text=text.lower()# Convert to lowercase\n",
    "    text=re.sub(r'[^a-zA-Z\\s]', ' ',text) # Keep only alphabetic characters and spaces\n",
    "    text= re.sub(r'\\d+', '',text) # Remove digits\n",
    "    text=re.sub(r'\\s+', ' ', text).strip() # Replace multiple spaces with a single space and strip\n",
    "    return text\n",
    "\n",
    "# Clean the 'text' column using the refinement function\n",
    "df.loc[:, 'text'] = df['text'].apply(refine_text)\n",
    "\n",
    "df[['text']].head()"
   ]
  },
  {
   "cell_type": "code",
   "execution_count": 18,
   "metadata": {},
   "outputs": [
    {
     "data": {
      "text/html": [
       "<div>\n",
       "<style scoped>\n",
       "    .dataframe tbody tr th:only-of-type {\n",
       "        vertical-align: middle;\n",
       "    }\n",
       "\n",
       "    .dataframe tbody tr th {\n",
       "        vertical-align: top;\n",
       "    }\n",
       "\n",
       "    .dataframe thead th {\n",
       "        text-align: right;\n",
       "    }\n",
       "</style>\n",
       "<table border=\"1\" class=\"dataframe\">\n",
       "  <thead>\n",
       "    <tr style=\"text-align: right;\">\n",
       "      <th></th>\n",
       "      <th>text</th>\n",
       "      <th>tokens</th>\n",
       "    </tr>\n",
       "  </thead>\n",
       "  <tbody>\n",
       "    <tr>\n",
       "      <th>0</th>\n",
       "      <td>donald trump just couldn t wish all americans ...</td>\n",
       "      <td>[donald, trump, just, couldn, t, wish, all, am...</td>\n",
       "    </tr>\n",
       "    <tr>\n",
       "      <th>1</th>\n",
       "      <td>house intelligence committee chairman devin nu...</td>\n",
       "      <td>[house, intelligence, committee, chairman, dev...</td>\n",
       "    </tr>\n",
       "    <tr>\n",
       "      <th>2</th>\n",
       "      <td>on friday it was revealed that former milwauke...</td>\n",
       "      <td>[on, friday, it, was, revealed, that, former, ...</td>\n",
       "    </tr>\n",
       "    <tr>\n",
       "      <th>3</th>\n",
       "      <td>on christmas day donald trump announced that h...</td>\n",
       "      <td>[on, christmas, day, donald, trump, announced,...</td>\n",
       "    </tr>\n",
       "    <tr>\n",
       "      <th>4</th>\n",
       "      <td>pope francis used his annual christmas day mes...</td>\n",
       "      <td>[pope, francis, used, his, annual, christmas, ...</td>\n",
       "    </tr>\n",
       "  </tbody>\n",
       "</table>\n",
       "</div>"
      ],
      "text/plain": [
       "                                                text  \\\n",
       "0  donald trump just couldn t wish all americans ...   \n",
       "1  house intelligence committee chairman devin nu...   \n",
       "2  on friday it was revealed that former milwauke...   \n",
       "3  on christmas day donald trump announced that h...   \n",
       "4  pope francis used his annual christmas day mes...   \n",
       "\n",
       "                                              tokens  \n",
       "0  [donald, trump, just, couldn, t, wish, all, am...  \n",
       "1  [house, intelligence, committee, chairman, dev...  \n",
       "2  [on, friday, it, was, revealed, that, former, ...  \n",
       "3  [on, christmas, day, donald, trump, announced,...  \n",
       "4  [pope, francis, used, his, annual, christmas, ...  "
      ]
     },
     "execution_count": 18,
     "metadata": {},
     "output_type": "execute_result"
    }
   ],
   "source": [
    "#nltk.download('punkt')\n",
    "#nltk.download('punkt_tab')\n",
    "from nltk.tokenize import word_tokenize\n",
    "def tokenization(text):\n",
    "    return word_tokenize(text)\n",
    "# Apply tokenization to the 'text' column\n",
    "df['tokens']=df['text'].apply(tokenization)\n",
    "# View the tokenized text data\n",
    "df[['text','tokens']].head()"
   ]
  },
  {
   "cell_type": "code",
   "execution_count": 19,
   "metadata": {},
   "outputs": [],
   "source": [
    "from nltk.corpus import stopwords\n",
    "#nltk.download('stopwords') # Downloading stopwords\n",
    "stop_words= set(stopwords.words('english'))"
   ]
  },
  {
   "cell_type": "code",
   "execution_count": 20,
   "metadata": {},
   "outputs": [
    {
     "data": {
      "text/html": [
       "<div>\n",
       "<style scoped>\n",
       "    .dataframe tbody tr th:only-of-type {\n",
       "        vertical-align: middle;\n",
       "    }\n",
       "\n",
       "    .dataframe tbody tr th {\n",
       "        vertical-align: top;\n",
       "    }\n",
       "\n",
       "    .dataframe thead th {\n",
       "        text-align: right;\n",
       "    }\n",
       "</style>\n",
       "<table border=\"1\" class=\"dataframe\">\n",
       "  <thead>\n",
       "    <tr style=\"text-align: right;\">\n",
       "      <th></th>\n",
       "      <th>tokens</th>\n",
       "      <th>filter_tokens</th>\n",
       "    </tr>\n",
       "  </thead>\n",
       "  <tbody>\n",
       "    <tr>\n",
       "      <th>0</th>\n",
       "      <td>[donald, trump, just, couldn, t, wish, all, am...</td>\n",
       "      <td>[donald, trump, wish, americans, happy, new, y...</td>\n",
       "    </tr>\n",
       "    <tr>\n",
       "      <th>1</th>\n",
       "      <td>[house, intelligence, committee, chairman, dev...</td>\n",
       "      <td>[house, intelligence, committee, chairman, dev...</td>\n",
       "    </tr>\n",
       "    <tr>\n",
       "      <th>2</th>\n",
       "      <td>[on, friday, it, was, revealed, that, former, ...</td>\n",
       "      <td>[friday, revealed, former, milwaukee, sheriff,...</td>\n",
       "    </tr>\n",
       "    <tr>\n",
       "      <th>3</th>\n",
       "      <td>[on, christmas, day, donald, trump, announced,...</td>\n",
       "      <td>[christmas, day, donald, trump, announced, wou...</td>\n",
       "    </tr>\n",
       "    <tr>\n",
       "      <th>4</th>\n",
       "      <td>[pope, francis, used, his, annual, christmas, ...</td>\n",
       "      <td>[pope, francis, used, annual, christmas, day, ...</td>\n",
       "    </tr>\n",
       "  </tbody>\n",
       "</table>\n",
       "</div>"
      ],
      "text/plain": [
       "                                              tokens  \\\n",
       "0  [donald, trump, just, couldn, t, wish, all, am...   \n",
       "1  [house, intelligence, committee, chairman, dev...   \n",
       "2  [on, friday, it, was, revealed, that, former, ...   \n",
       "3  [on, christmas, day, donald, trump, announced,...   \n",
       "4  [pope, francis, used, his, annual, christmas, ...   \n",
       "\n",
       "                                       filter_tokens  \n",
       "0  [donald, trump, wish, americans, happy, new, y...  \n",
       "1  [house, intelligence, committee, chairman, dev...  \n",
       "2  [friday, revealed, former, milwaukee, sheriff,...  \n",
       "3  [christmas, day, donald, trump, announced, wou...  \n",
       "4  [pope, francis, used, annual, christmas, day, ...  "
      ]
     },
     "execution_count": 20,
     "metadata": {},
     "output_type": "execute_result"
    }
   ],
   "source": [
    "def removestopwords(tokens):\n",
    "    filtered = [word for word in tokens if word not in stop_words]\n",
    "    return filtered\n",
    "# Perform stop words removal on 'tokens' column and store results in a new column\n",
    "df = df.assign(filter_tokens=df['tokens'].map(removestopwords))\n",
    "# Display the first few rows of original and filtered tokens for review\n",
    "df.loc[:, ['tokens','filter_tokens']].head()"
   ]
  },
  {
   "cell_type": "code",
   "execution_count": 21,
   "metadata": {},
   "outputs": [
    {
     "data": {
      "text/html": [
       "<div>\n",
       "<style scoped>\n",
       "    .dataframe tbody tr th:only-of-type {\n",
       "        vertical-align: middle;\n",
       "    }\n",
       "\n",
       "    .dataframe tbody tr th {\n",
       "        vertical-align: top;\n",
       "    }\n",
       "\n",
       "    .dataframe thead th {\n",
       "        text-align: right;\n",
       "    }\n",
       "</style>\n",
       "<table border=\"1\" class=\"dataframe\">\n",
       "  <thead>\n",
       "    <tr style=\"text-align: right;\">\n",
       "      <th></th>\n",
       "      <th>filter_tokens</th>\n",
       "      <th>lemmatized_tokens</th>\n",
       "    </tr>\n",
       "  </thead>\n",
       "  <tbody>\n",
       "    <tr>\n",
       "      <th>0</th>\n",
       "      <td>[donald, trump, wish, americans, happy, new, y...</td>\n",
       "      <td>[donald, trump, wish, american, happy, new, ye...</td>\n",
       "    </tr>\n",
       "    <tr>\n",
       "      <th>1</th>\n",
       "      <td>[house, intelligence, committee, chairman, dev...</td>\n",
       "      <td>[house, intelligence, committee, chairman, dev...</td>\n",
       "    </tr>\n",
       "    <tr>\n",
       "      <th>2</th>\n",
       "      <td>[friday, revealed, former, milwaukee, sheriff,...</td>\n",
       "      <td>[friday, revealed, former, milwaukee, sheriff,...</td>\n",
       "    </tr>\n",
       "    <tr>\n",
       "      <th>3</th>\n",
       "      <td>[christmas, day, donald, trump, announced, wou...</td>\n",
       "      <td>[christmas, day, donald, trump, announced, wou...</td>\n",
       "    </tr>\n",
       "    <tr>\n",
       "      <th>4</th>\n",
       "      <td>[pope, francis, used, annual, christmas, day, ...</td>\n",
       "      <td>[pope, francis, used, annual, christmas, day, ...</td>\n",
       "    </tr>\n",
       "  </tbody>\n",
       "</table>\n",
       "</div>"
      ],
      "text/plain": [
       "                                       filter_tokens  \\\n",
       "0  [donald, trump, wish, americans, happy, new, y...   \n",
       "1  [house, intelligence, committee, chairman, dev...   \n",
       "2  [friday, revealed, former, milwaukee, sheriff,...   \n",
       "3  [christmas, day, donald, trump, announced, wou...   \n",
       "4  [pope, francis, used, annual, christmas, day, ...   \n",
       "\n",
       "                                   lemmatized_tokens  \n",
       "0  [donald, trump, wish, american, happy, new, ye...  \n",
       "1  [house, intelligence, committee, chairman, dev...  \n",
       "2  [friday, revealed, former, milwaukee, sheriff,...  \n",
       "3  [christmas, day, donald, trump, announced, wou...  \n",
       "4  [pope, francis, used, annual, christmas, day, ...  "
      ]
     },
     "execution_count": 21,
     "metadata": {},
     "output_type": "execute_result"
    }
   ],
   "source": [
    "from nltk.stem import WordNetLemmatizer\n",
    "\n",
    "# Download WordNet resources required for lemmatization\n",
    "#nltk.download('wordnet')\n",
    "#nltk.download('omw-1.4')\n",
    "\n",
    "# Instantiate WordNetLemmatizer\n",
    "lemmatizer = WordNetLemmatizer()\n",
    "\n",
    "# Define a function to perform lemmatization on tokens\n",
    "def perform_lemmatization(tokens):\n",
    "    lemmatized = [lemmatizer.lemmatize(word) for word in tokens]\n",
    "    return lemmatized\n",
    "\n",
    "# Add a new column with lemmatized tokens using the defined function\n",
    "df = df.assign(lemmatized_tokens=df['filter_tokens'].map(perform_lemmatization))\n",
    "\n",
    "# Display the original and lemmatized tokens for comparison\n",
    "df.loc[:, ['filter_tokens', 'lemmatized_tokens']].head()"
   ]
  },
  {
   "cell_type": "code",
   "execution_count": 22,
   "metadata": {},
   "outputs": [
    {
     "data": {
      "text/html": [
       "<div>\n",
       "<style scoped>\n",
       "    .dataframe tbody tr th:only-of-type {\n",
       "        vertical-align: middle;\n",
       "    }\n",
       "\n",
       "    .dataframe tbody tr th {\n",
       "        vertical-align: top;\n",
       "    }\n",
       "\n",
       "    .dataframe thead th {\n",
       "        text-align: right;\n",
       "    }\n",
       "</style>\n",
       "<table border=\"1\" class=\"dataframe\">\n",
       "  <thead>\n",
       "    <tr style=\"text-align: right;\">\n",
       "      <th></th>\n",
       "      <th>text</th>\n",
       "      <th>classification</th>\n",
       "      <th>tokens</th>\n",
       "      <th>filter_tokens</th>\n",
       "      <th>lemmatized_tokens</th>\n",
       "    </tr>\n",
       "  </thead>\n",
       "  <tbody>\n",
       "    <tr>\n",
       "      <th>0</th>\n",
       "      <td>donald trump just couldn t wish all americans ...</td>\n",
       "      <td>0</td>\n",
       "      <td>[donald, trump, just, couldn, t, wish, all, am...</td>\n",
       "      <td>[donald, trump, wish, americans, happy, new, y...</td>\n",
       "      <td>[donald, trump, wish, american, happy, new, ye...</td>\n",
       "    </tr>\n",
       "    <tr>\n",
       "      <th>1</th>\n",
       "      <td>house intelligence committee chairman devin nu...</td>\n",
       "      <td>0</td>\n",
       "      <td>[house, intelligence, committee, chairman, dev...</td>\n",
       "      <td>[house, intelligence, committee, chairman, dev...</td>\n",
       "      <td>[house, intelligence, committee, chairman, dev...</td>\n",
       "    </tr>\n",
       "    <tr>\n",
       "      <th>2</th>\n",
       "      <td>on friday it was revealed that former milwauke...</td>\n",
       "      <td>0</td>\n",
       "      <td>[on, friday, it, was, revealed, that, former, ...</td>\n",
       "      <td>[friday, revealed, former, milwaukee, sheriff,...</td>\n",
       "      <td>[friday, revealed, former, milwaukee, sheriff,...</td>\n",
       "    </tr>\n",
       "    <tr>\n",
       "      <th>3</th>\n",
       "      <td>on christmas day donald trump announced that h...</td>\n",
       "      <td>0</td>\n",
       "      <td>[on, christmas, day, donald, trump, announced,...</td>\n",
       "      <td>[christmas, day, donald, trump, announced, wou...</td>\n",
       "      <td>[christmas, day, donald, trump, announced, wou...</td>\n",
       "    </tr>\n",
       "    <tr>\n",
       "      <th>4</th>\n",
       "      <td>pope francis used his annual christmas day mes...</td>\n",
       "      <td>0</td>\n",
       "      <td>[pope, francis, used, his, annual, christmas, ...</td>\n",
       "      <td>[pope, francis, used, annual, christmas, day, ...</td>\n",
       "      <td>[pope, francis, used, annual, christmas, day, ...</td>\n",
       "    </tr>\n",
       "  </tbody>\n",
       "</table>\n",
       "</div>"
      ],
      "text/plain": [
       "                                                text  classification  \\\n",
       "0  donald trump just couldn t wish all americans ...               0   \n",
       "1  house intelligence committee chairman devin nu...               0   \n",
       "2  on friday it was revealed that former milwauke...               0   \n",
       "3  on christmas day donald trump announced that h...               0   \n",
       "4  pope francis used his annual christmas day mes...               0   \n",
       "\n",
       "                                              tokens  \\\n",
       "0  [donald, trump, just, couldn, t, wish, all, am...   \n",
       "1  [house, intelligence, committee, chairman, dev...   \n",
       "2  [on, friday, it, was, revealed, that, former, ...   \n",
       "3  [on, christmas, day, donald, trump, announced,...   \n",
       "4  [pope, francis, used, his, annual, christmas, ...   \n",
       "\n",
       "                                       filter_tokens  \\\n",
       "0  [donald, trump, wish, americans, happy, new, y...   \n",
       "1  [house, intelligence, committee, chairman, dev...   \n",
       "2  [friday, revealed, former, milwaukee, sheriff,...   \n",
       "3  [christmas, day, donald, trump, announced, wou...   \n",
       "4  [pope, francis, used, annual, christmas, day, ...   \n",
       "\n",
       "                                   lemmatized_tokens  \n",
       "0  [donald, trump, wish, american, happy, new, ye...  \n",
       "1  [house, intelligence, committee, chairman, dev...  \n",
       "2  [friday, revealed, former, milwaukee, sheriff,...  \n",
       "3  [christmas, day, donald, trump, announced, wou...  \n",
       "4  [pope, francis, used, annual, christmas, day, ...  "
      ]
     },
     "execution_count": 22,
     "metadata": {},
     "output_type": "execute_result"
    }
   ],
   "source": [
    "df.head()"
   ]
  },
  {
   "cell_type": "code",
   "execution_count": 23,
   "metadata": {},
   "outputs": [
    {
     "data": {
      "text/html": [
       "<div>\n",
       "<style scoped>\n",
       "    .dataframe tbody tr th:only-of-type {\n",
       "        vertical-align: middle;\n",
       "    }\n",
       "\n",
       "    .dataframe tbody tr th {\n",
       "        vertical-align: top;\n",
       "    }\n",
       "\n",
       "    .dataframe thead th {\n",
       "        text-align: right;\n",
       "    }\n",
       "</style>\n",
       "<table border=\"1\" class=\"dataframe\">\n",
       "  <thead>\n",
       "    <tr style=\"text-align: right;\">\n",
       "      <th></th>\n",
       "      <th>text</th>\n",
       "      <th>classification</th>\n",
       "      <th>tokens</th>\n",
       "      <th>filter_tokens</th>\n",
       "      <th>lemmatized_tokens</th>\n",
       "    </tr>\n",
       "  </thead>\n",
       "  <tbody>\n",
       "    <tr>\n",
       "      <th>38652</th>\n",
       "      <td>brussels reuters nato allies on tuesday welcom...</td>\n",
       "      <td>1</td>\n",
       "      <td>[brussels, reuters, nato, allies, on, tuesday,...</td>\n",
       "      <td>[brussels, reuters, nato, allies, tuesday, wel...</td>\n",
       "      <td>[brussels, reuters, nato, ally, tuesday, welco...</td>\n",
       "    </tr>\n",
       "    <tr>\n",
       "      <th>38653</th>\n",
       "      <td>london reuters lexisnexis a provider of legal ...</td>\n",
       "      <td>1</td>\n",
       "      <td>[london, reuters, lexisnexis, a, provider, of,...</td>\n",
       "      <td>[london, reuters, lexisnexis, provider, legal,...</td>\n",
       "      <td>[london, reuters, lexisnexis, provider, legal,...</td>\n",
       "    </tr>\n",
       "    <tr>\n",
       "      <th>38654</th>\n",
       "      <td>minsk reuters in the shadow of disused soviet ...</td>\n",
       "      <td>1</td>\n",
       "      <td>[minsk, reuters, in, the, shadow, of, disused,...</td>\n",
       "      <td>[minsk, reuters, shadow, disused, soviet, era,...</td>\n",
       "      <td>[minsk, reuters, shadow, disused, soviet, era,...</td>\n",
       "    </tr>\n",
       "    <tr>\n",
       "      <th>38655</th>\n",
       "      <td>moscow reuters vatican secretary of state card...</td>\n",
       "      <td>1</td>\n",
       "      <td>[moscow, reuters, vatican, secretary, of, stat...</td>\n",
       "      <td>[moscow, reuters, vatican, secretary, state, c...</td>\n",
       "      <td>[moscow, reuters, vatican, secretary, state, c...</td>\n",
       "    </tr>\n",
       "    <tr>\n",
       "      <th>38656</th>\n",
       "      <td>jakarta reuters indonesia will buy sukhoi figh...</td>\n",
       "      <td>1</td>\n",
       "      <td>[jakarta, reuters, indonesia, will, buy, sukho...</td>\n",
       "      <td>[jakarta, reuters, indonesia, buy, sukhoi, fig...</td>\n",
       "      <td>[jakarta, reuters, indonesia, buy, sukhoi, fig...</td>\n",
       "    </tr>\n",
       "  </tbody>\n",
       "</table>\n",
       "</div>"
      ],
      "text/plain": [
       "                                                    text  classification  \\\n",
       "38652  brussels reuters nato allies on tuesday welcom...               1   \n",
       "38653  london reuters lexisnexis a provider of legal ...               1   \n",
       "38654  minsk reuters in the shadow of disused soviet ...               1   \n",
       "38655  moscow reuters vatican secretary of state card...               1   \n",
       "38656  jakarta reuters indonesia will buy sukhoi figh...               1   \n",
       "\n",
       "                                                  tokens  \\\n",
       "38652  [brussels, reuters, nato, allies, on, tuesday,...   \n",
       "38653  [london, reuters, lexisnexis, a, provider, of,...   \n",
       "38654  [minsk, reuters, in, the, shadow, of, disused,...   \n",
       "38655  [moscow, reuters, vatican, secretary, of, stat...   \n",
       "38656  [jakarta, reuters, indonesia, will, buy, sukho...   \n",
       "\n",
       "                                           filter_tokens  \\\n",
       "38652  [brussels, reuters, nato, allies, tuesday, wel...   \n",
       "38653  [london, reuters, lexisnexis, provider, legal,...   \n",
       "38654  [minsk, reuters, shadow, disused, soviet, era,...   \n",
       "38655  [moscow, reuters, vatican, secretary, state, c...   \n",
       "38656  [jakarta, reuters, indonesia, buy, sukhoi, fig...   \n",
       "\n",
       "                                       lemmatized_tokens  \n",
       "38652  [brussels, reuters, nato, ally, tuesday, welco...  \n",
       "38653  [london, reuters, lexisnexis, provider, legal,...  \n",
       "38654  [minsk, reuters, shadow, disused, soviet, era,...  \n",
       "38655  [moscow, reuters, vatican, secretary, state, c...  \n",
       "38656  [jakarta, reuters, indonesia, buy, sukhoi, fig...  "
      ]
     },
     "execution_count": 23,
     "metadata": {},
     "output_type": "execute_result"
    }
   ],
   "source": [
    "df.tail()"
   ]
  },
  {
   "cell_type": "code",
   "execution_count": 24,
   "metadata": {},
   "outputs": [
    {
     "name": "stdout",
     "output_type": "stream",
     "text": [
      "[[0.         0.         0.         ... 0.         0.         0.        ]\n",
      " [0.         0.         0.         ... 0.         0.         0.        ]\n",
      " [0.         0.         0.         ... 0.         0.         0.        ]\n",
      " ...\n",
      " [0.         0.         0.10222443 ... 0.         0.         0.        ]\n",
      " [0.         0.         0.         ... 0.         0.         0.        ]\n",
      " [0.         0.         0.         ... 0.         0.         0.        ]]\n"
     ]
    }
   ],
   "source": [
    "#Tf-Idf for vectorization of lemmatized_tokens\n",
    "from sklearn.feature_extraction.text import TfidfVectorizer\n",
    "#Initialize Tfidf vectorizer\n",
    "vectorizer=TfidfVectorizer(max_features=5000)\n",
    "# Prepare the input by joining lemmatized tokens into a single string per document\n",
    "lemmatized_strings=df['lemmatized_tokens'].map(' '.join)\n",
    "# Fit the vectorizer and transform the text data into TF-IDF feature matrix\n",
    "tfidf_matrix=vectorizer.fit_transform(lemmatized_strings)\n",
    "# Display the resulting array representation of the TF-IDF matrix\n",
    "print(tfidf_matrix.toarray())"
   ]
  },
  {
   "cell_type": "code",
   "execution_count": 25,
   "metadata": {},
   "outputs": [
    {
     "name": "stdout",
     "output_type": "stream",
     "text": [
      "Training X_Shape: (30925, 5000)\n",
      "Testing X_Shape: (7732, 5000)\n",
      "Training y_Shape: (30925,)\n",
      "Testing y_Shape: (7732,)\n"
     ]
    }
   ],
   "source": [
    "from sklearn.model_selection import train_test_split\n",
    "X=tfidf_matrix\n",
    "y=df['classification']\n",
    "X_train,X_test,y_train,y_test=train_test_split(X, y,test_size=0.2,random_state=42)\n",
    "#Checking the Shapes of the Training and Testing Sets\n",
    "print(f\"Training X_Shape: {X_train.shape}\")\n",
    "print(f\"Testing X_Shape: {X_test.shape}\")\n",
    "print(f\"Training y_Shape: {y_train.shape}\")\n",
    "print(f\"Testing y_Shape: {y_test.shape}\")"
   ]
  },
  {
   "cell_type": "code",
   "execution_count": 26,
   "metadata": {},
   "outputs": [
    {
     "name": "stdout",
     "output_type": "stream",
     "text": [
      "Training Accuracy: 100.00\n",
      "Test Accuracy: 98.47\n",
      "\n",
      "Detailed Classification Report:\n",
      "              precision    recall  f1-score   support\n",
      "\n",
      "           0       0.98      0.98      0.98      3470\n",
      "           1       0.98      0.99      0.99      4262\n",
      "\n",
      "    accuracy                           0.98      7732\n",
      "   macro avg       0.98      0.98      0.98      7732\n",
      "weighted avg       0.98      0.98      0.98      7732\n",
      "\n",
      "\n",
      "Confusion Matrix:\n",
      "[[3405   65]\n",
      " [  53 4209]]\n"
     ]
    }
   ],
   "source": [
    "Mlp_initialize = MLPClassifier(\n",
    "    hidden_layer_sizes=(128, 64),  # Define two hidden layers with 128 and 64 neurons\n",
    "    activation='tanh',            # Use the tanh activation function\n",
    "    max_iter=500,                 # Set the maximum number of iterations\n",
    "    solver='adam',                # Use the Adam optimizer\n",
    "    learning_rate='constant',     # Set a constant learning rate\n",
    "    random_state=42               # Ensure reproducibility with a fixed random state\n",
    ")\n",
    "# Train the MLP classifier using the training dataset\n",
    "Mlp_initialize.fit(X_train, y_train)\n",
    "\n",
    "# Evaluate the model on the training dataset and display the accuracy\n",
    "Training_accuracy = Mlp_initialize.score(X_train, y_train)*100\n",
    "print(f\"Training Accuracy: {Training_accuracy:.2f}\")\n",
    "\n",
    "# Generate predictions on the testing dataset\n",
    "Predictions=Mlp_initialize.predict(X_test)\n",
    "\n",
    "# Calculate and display the test accuracy\n",
    "Test_accuracy=accuracy_score(y_test,Predictions)*100\n",
    "print(f\"Test Accuracy: {Test_accuracy:.2f}\")\n",
    "\n",
    "# Display a detailed classification report\n",
    "print(\"\\nDetailed Classification Report:\")\n",
    "print(classification_report(y_test,Predictions))\n",
    "\n",
    "# Generate and display the confusion matrix\n",
    "print(\"\\nConfusion Matrix:\")\n",
    "print(confusion_matrix(y_test,Predictions))"
   ]
  },
  {
   "cell_type": "code",
   "execution_count": 27,
   "metadata": {},
   "outputs": [
    {
     "name": "stdout",
     "output_type": "stream",
     "text": [
      "Training Accuracy: 100.00\n",
      "Test Accuracy: 98.95\n",
      "\n",
      "Detailed Classification Report:\n",
      "              precision    recall  f1-score   support\n",
      "\n",
      "           0       0.99      0.99      0.99      3470\n",
      "           1       0.99      0.99      0.99      4262\n",
      "\n",
      "    accuracy                           0.99      7732\n",
      "   macro avg       0.99      0.99      0.99      7732\n",
      "weighted avg       0.99      0.99      0.99      7732\n",
      "\n",
      "\n",
      "Confusion Matrix:\n",
      "[[3431   39]\n",
      " [  42 4220]]\n"
     ]
    }
   ],
   "source": [
    "Mlp_initialize = MLPClassifier(\n",
    "    hidden_layer_sizes=(200), # Define one hidden layer with 150 neurons\n",
    "    activation='relu',            # Use the relu activation function\n",
    "    max_iter=800,                 # Set the maximum number of iterations\n",
    "    solver='adam',                # Use the Adam optimizer\n",
    "    learning_rate='adaptive',     # Set adaptive learning rate\n",
    "    random_state=42,              # Ensure reproducibility with a fixed random state\n",
    "    alpha=0.001\n",
    ")\n",
    "# Train the MLP classifier using the training dataset\n",
    "Mlp_initialize.fit(X_train, y_train)\n",
    "\n",
    "# Evaluate the model on the training dataset and display the accuracy\n",
    "Training_accuracy = Mlp_initialize.score(X_train, y_train)*100\n",
    "print(f\"Training Accuracy: {Training_accuracy:.2f}\")\n",
    "\n",
    "# Generate predictions on the testing dataset\n",
    "Predictions=Mlp_initialize.predict(X_test)\n",
    "\n",
    "# Calculate and display the test accuracy\n",
    "Test_accuracy=accuracy_score(y_test,Predictions)*100\n",
    "print(f\"Test Accuracy: {Test_accuracy:.2f}\")\n",
    "\n",
    "# Display a detailed classification report including precision, recall, and F1-score\n",
    "print(\"\\nDetailed Classification Report:\")\n",
    "print(classification_report(y_test,Predictions))\n",
    "\n",
    "# Generate and display the confusion matrix\n",
    "print(\"\\nConfusion Matrix:\")\n",
    "print(confusion_matrix(y_test,Predictions))\n"
   ]
  },
  {
   "cell_type": "code",
   "execution_count": 28,
   "metadata": {},
   "outputs": [
    {
     "name": "stdout",
     "output_type": "stream",
     "text": [
      "MLP model saved using joblib\n"
     ]
    }
   ],
   "source": [
    "import joblib\n",
    "# Save the entire MLP model using joblib\n",
    "joblib.dump(Mlp_initialize, 'Mlp_model.pkl')\n",
    "print(\"MLP model saved using joblib\")"
   ]
  },
  {
   "cell_type": "code",
   "execution_count": 31,
   "metadata": {},
   "outputs": [
    {
     "name": "stdout",
     "output_type": "stream",
     "text": [
      "Sentence: JioHotStar merger: Here’s what happens to JioCinema, Disney+ Hotstar websites and apps => Prediction: Real\n",
      "Sentence: Party first or alliance? Congress's Delhi offensive against Kejriwal's AAP has a message for INDIA bloc => Prediction: Real\n",
      "Sentence: Ranveer Allahbadia moves SC to quash multiple FIRs in India's Got Latent row; top court denies urgent hearing => Prediction: Fake\n",
      "Sentence: exot => Prediction: Fake\n",
      "Exiting the program.\n"
     ]
    }
   ],
   "source": [
    "def preprocess_text(text):\n",
    "    # Tokenize the text\n",
    "    tokens = text.split()\n",
    "\n",
    "    # Remove stopwords, lemmatize, and keep only alphabetic words\n",
    "    cleaned_tokens = [\n",
    "        lemmatizer.lemmatize(token.lower())  # Lemmatize and convert to lowercase\n",
    "        for token in tokens if token.lower() not in stop_words and token.isalpha()\n",
    "    ]\n",
    "\n",
    "    # Return the preprocessed tokens as a single string\n",
    "    return ' '.join(cleaned_tokens)\n",
    "\n",
    "\n",
    "# Train and save the TF-IDF vectorizer\n",
    "tfidf_vectorizer = TfidfVectorizer(max_features=5000)\n",
    "x_tfidf = tfidf_vectorizer.fit_transform(df['lemmatized_tokens'].apply(lambda x: ' '.join(x)))\n",
    "\n",
    "joblib.dump(tfidf_vectorizer, 'tfidf_vectorizer.pkl')\n",
    "\n",
    "# Load the trained MLP model\n",
    "mlp_model = joblib.load('Mlp_model.pkl')\n",
    "\n",
    "# Collect and process one sentence at a time\n",
    "while True:\n",
    "    user_input = input(\"Enter a sentence to test (or type 'exit' to quit): \").strip()\n",
    "\n",
    "    if user_input.lower() == 'exit':\n",
    "        print(\"Exiting the program.\")\n",
    "        break\n",
    "\n",
    "    if not user_input:\n",
    "        print(\"Invalid input. Please enter a valid sentence.\")\n",
    "        continue\n",
    "\n",
    "    processed_sentence = preprocess_text(user_input)\n",
    "    x_example_tfidf = tfidf_vectorizer.transform([processed_sentence])\n",
    "    prediction = mlp_model.predict(x_example_tfidf)[0]\n",
    "    prediction_label = \"Real\" if prediction == 1 else \"Fake\"\n",
    "\n",
    "    print(f\"Sentence: {user_input} => Prediction: {prediction_label}\")"
   ]
  }
 ],
 "metadata": {
  "kernelspec": {
   "display_name": "Python 3",
   "language": "python",
   "name": "python3"
  },
  "language_info": {
   "codemirror_mode": {
    "name": "ipython",
    "version": 3
   },
   "file_extension": ".py",
   "mimetype": "text/x-python",
   "name": "python",
   "nbconvert_exporter": "python",
   "pygments_lexer": "ipython3",
   "version": "3.12.1"
  }
 },
 "nbformat": 4,
 "nbformat_minor": 2
}
